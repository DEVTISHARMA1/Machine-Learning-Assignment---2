{
 "cells": [
  {
   "cell_type": "code",
   "execution_count": null,
   "id": "af1586a5-e2ab-41c7-bf82-15dfd4214a5e",
   "metadata": {},
   "outputs": [],
   "source": [
    "#1que\n",
    "#Artificial Intelligence refers to the simulation of human intelligence in machines that are programmed to think\n",
    "#and learn like humans. It encompasses a wide range of techniques and technologies aimed at enabling computers to \n",
    "#perform tasks that typically require human intelligence, such as problem-solving, reasoning, natural language \n",
    "#understanding, and visual perception.\n",
    "#Example: AI is used in chatbots that can engage in conversations with users, self-driving cars \n",
    "#Machine Learning is a subset of AI that focuses on the development of algorithms and models that allow computers\n",
    "#to improvetheir performance on a specific task through experience (data). Instead of being explicitly programmed, \n",
    "#machine learning models learn from data patterns and adapt their behavior accordingly.\n",
    "#Example: In machine learning, you can train a model to classify emails as spam or not spam based on historical\n",
    "#email data. \n",
    " #Deep Learning is a subfield of machine learning that uses artificial neural networks with many layers to model\n",
    "#and solve complex tasks."
   ]
  },
  {
   "cell_type": "code",
   "execution_count": null,
   "id": "019d5bc2-a3d8-4490-9028-735ea2b45a53",
   "metadata": {},
   "outputs": [],
   "source": [
    "#2que\n",
    "#Supervised learning is a type of machine learning where the algorithm is trained on a labeled dataset, which means\n",
    "#that each input data point is paired with its corresponding correct output or target\n",
    "#Image Classification\n",
    "#Spam Email Detection\n",
    "#Language Translation"
   ]
  },
  {
   "cell_type": "code",
   "execution_count": null,
   "id": "258cbf32-854c-404b-935f-619b2b0e20ec",
   "metadata": {},
   "outputs": [],
   "source": [
    "#3que\n",
    "#Unsupervised learning is a type of machine learning where the algorithm is trained on an unlabeled dataset,\n",
    "#meaning that the data does not come with predefined categories or target labels. Below is the example:\n",
    "#Clustering,Dimensionality Reduction,Topic Modeling"
   ]
  },
  {
   "cell_type": "code",
   "execution_count": null,
   "id": "492c80c2-70ad-45fe-87f1-ec6b3c3c4977",
   "metadata": {},
   "outputs": [],
   "source": [
    "#4que\n",
    "#AI is the overarching field focused on creating intelligent machines.\n",
    "#ML is a subset of AI that emphasizes learning from data.\n",
    "#DL is a subset of ML that focuses on deep neural networks for complex tasks.\n",
    "#DS is a multidisciplinary field that involves working with data to extract insights and solve practical problems."
   ]
  },
  {
   "cell_type": "code",
   "execution_count": null,
   "id": "efa25516-dece-4159-84d7-b657521e4875",
   "metadata": {},
   "outputs": [],
   "source": [
    "#5que\n",
    "Supervised learning relies on labeled data and is used for tasks such as classification and regression.\n",
    "Unsupervised learning works with unlabeled data and is used for tasks like clustering and dimensionality reduction.\n",
    "Semi-supervised learning combines labeled and unlabeled data and is particularly valuable when labeled data is\n",
    "limited or expensive to obtain."
   ]
  },
  {
   "cell_type": "code",
   "execution_count": null,
   "id": "c517b619-3996-4896-8bac-4262a1bd5e1d",
   "metadata": {},
   "outputs": [],
   "source": [
    "#6que\n",
    "#The training set is a subset of the dataset used to train the machine learning model. It contains a substantial\n",
    "#portion of the data, typically the majority.\n",
    "#The test set is a separate subset of the dataset that is not used during model training. It is kept aside until\n",
    "#the model is trained and serves as an independent evaluation dataset.\n",
    "#The validation set is an additional subset of the data that is used during the model development and fine-tuning \n",
    "#process. It is typically used for hyperparameter tuning and model selection."
   ]
  },
  {
   "cell_type": "code",
   "execution_count": null,
   "id": "304fbf02-0b36-4ffe-b27f-62c83a53ab3d",
   "metadata": {},
   "outputs": [],
   "source": []
  }
 ],
 "metadata": {
  "kernelspec": {
   "display_name": "Python 3 (ipykernel)",
   "language": "python",
   "name": "python3"
  },
  "language_info": {
   "codemirror_mode": {
    "name": "ipython",
    "version": 3
   },
   "file_extension": ".py",
   "mimetype": "text/x-python",
   "name": "python",
   "nbconvert_exporter": "python",
   "pygments_lexer": "ipython3",
   "version": "3.10.8"
  }
 },
 "nbformat": 4,
 "nbformat_minor": 5
}
