{
 "cells": [
  {
   "cell_type": "code",
   "execution_count": null,
   "id": "b4180667-0a96-4889-8034-1a1718c4e919",
   "metadata": {},
   "outputs": [],
   "source": [
    "#1 que\n",
    "# Overfitting occurs when a machine learning model learns the training data too well, capturing noise or random\n",
    "# fluctuations in the data rather than the underlying patterns. In other words, the model becomes too complex.\n",
    "#Mitigation:\n",
    "      #Regularization: Add penalties or constraints to the model to reduce its complexity\n",
    "      #Feature selection: Choose relevant features and eliminate irrelevant ones to simplify the model.\n",
    "      #Increase training data: More data can help the model generalize better.\n",
    "#Underfitting occurs when a machine learning model is too simple to capture the underlying patterns in the training\n",
    "#data. It fails to learn the training data effectively.    \n",
    "#Mitigation:\n",
    "     #Increase model complexity: Use a more complex model, such as increasing the number of hidden layers in a neural network or using a higher-degree polynomial in regression.\n",
    "    #More training data: Sometimes, obtaining more data can help the model learn better.\n",
    "   #Ensemble methods: Combine multiple weak models to create a stronger model."
   ]
  },
  {
   "cell_type": "code",
   "execution_count": null,
   "id": "8505b3b8-7781-46cc-ad01-a002a8ae2354",
   "metadata": {},
   "outputs": [],
   "source": [
    "#2 que\n",
    "      #Regularization: Add penalties or constraints to the model to reduce its complexity\n",
    "      #Feature selection: Choose relevant features and eliminate irrelevant ones to simplify the model.\n",
    "      #Increase training data: More data can help the model generalize better."
   ]
  },
  {
   "cell_type": "code",
   "execution_count": null,
   "id": "c82311b0-04dd-4846-849d-33579dc84a77",
   "metadata": {},
   "outputs": [],
   "source": [
    "#3 que\n",
    "#Underfitting is a common issue in machine learning where a model is too simplistic to capture the underlying \n",
    "#patterns in the training data effectively. It occurs when the model is not complex enough to learn and represent\n",
    "#the relationships present in the data. \n",
    "\n",
    "#Linear Regression on Non-Linear Data:\n",
    "#Low Model Complexity:\n",
    "#Insufficient Features:If you provide the model with a limited set of features that do not adequately describe the \n",
    "#problem, it mightunderfit the data."
   ]
  },
  {
   "cell_type": "code",
   "execution_count": null,
   "id": "ad144f1d-ff21-430c-aa15-df265aedd7ed",
   "metadata": {},
   "outputs": [],
   "source": [
    "#4 que\n"
   ]
  }
 ],
 "metadata": {
  "kernelspec": {
   "display_name": "Python 3 (ipykernel)",
   "language": "python",
   "name": "python3"
  },
  "language_info": {
   "codemirror_mode": {
    "name": "ipython",
    "version": 3
   },
   "file_extension": ".py",
   "mimetype": "text/x-python",
   "name": "python",
   "nbconvert_exporter": "python",
   "pygments_lexer": "ipython3",
   "version": "3.10.8"
  }
 },
 "nbformat": 4,
 "nbformat_minor": 5
}
